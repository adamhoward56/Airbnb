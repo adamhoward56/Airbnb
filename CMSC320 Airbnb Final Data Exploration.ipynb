{
 "cells": [
  {
   "cell_type": "markdown",
   "metadata": {},
   "source": [
    "![airbnb_nyc](airbnb_newyork.jpg)\n",
    "\n",
    "\n",
    "\n",
    "# Exploring Airbnb Prices in New York City\n",
    "#### Aman Jaiman, Andrew Mao, Adam Howard\n",
    "---"
   ]
  },
  {
   "cell_type": "markdown",
   "metadata": {},
   "source": [
    "## Introduction\n",
    "---\n",
    "\n",
    "This winter, we're planning to take a trip to New York City! Everyone knows the cost of living there is sky-high, so naturally, we wanted to see if there was a way to find bargains. One popular option: Airbnb!\n",
    "\n",
    "Airbnb is a shared economy platform for people to offer their own housing for travellers. Since 2008, it has grown in popularity and has become ubiquitous in travelling options, becoming a large competitor in the hotel industry. Competing with hotels and other Airbnbs makes pricing challenging for sellers. There are many features that can factor into the price - its proximity to popular locations, amenities, size, etc.\n",
    "\n",
    "In this tutorial, we are aiming to see if there are certain features that contribute to price more than others. We also want to see if we can find outliers for the Airbnbs (bargains or ripoffs). We hope that this exploration can be useful for travelers looking to find a place in New York City, or for homeowners to be able to price their property at a competitive price to make a profit.\n"
   ]
  },
  {
   "cell_type": "markdown",
   "metadata": {},
   "source": [
    "## Data Collection\n",
    "---\n",
    "For this tutorial, we will be using 2019 [New York City Airbnb data](https://www.kaggle.com/dgomonov/new-york-city-airbnb-open-data), published by dgomonov on Kaggle. This data includes information about the hosts, geographical data, and other potential predictors of price.\n",
    "\n",
    "We'll be using Python 3 for this tutorial, along with the following libraries:\n",
    "* [Numpy](https://docs.scipy.org/doc/numpy/user/) - for linear algebra\n",
    "* [Pandas](https://pandas.pydata.org/pandas-docs/stable/) - for manipulating and preprocessing the data\n",
    "* [Scikit-Learn](http://scikit-learn.org/stable/documentation.html) - for machine learning\n",
    "* [Seaborn](https://seaborn.pydata.org/) - making pretty plots (uses matplotlib)!\n",
    "* [Folium](https://github.com/python-visualization/folium) - \n",
    "* [Plotly](https://github.com/plotly/plotly.py) - \n",
    "* [Matplotlib](https://matplotlib.org/) - more pretty plots (also necessary for seaborn)!\n",
    "* [StatsModels](https://www.statsmodels.org/stable/index.html)"
   ]
  },
  {
   "cell_type": "code",
   "execution_count": 3,
   "metadata": {},
   "outputs": [],
   "source": [
    "import numpy as np # linear algebra\n",
    "import pandas as pd # data processing, CSV file I/O (e.g. pd.read_csv)\n",
    "import matplotlib.pyplot as plt\n",
    "\n",
    "#import folium # generating maps\n",
    "#from folium.plugins import MarkerCluster # marker clusters for map\n",
    "#from folium.plugins import MiniMap # minimap display for map\n",
    "#from IPython.display import HTML, display # displaying maps in the notebook\n",
    "import seaborn as sns; sns.set() # graphing data"
   ]
  },
  {
   "cell_type": "markdown",
   "metadata": {},
   "source": [
    "Let's take a look at what the data looks like. Open the `.csv` file in the kaggle folder"
   ]
  },
  {
   "cell_type": "code",
   "execution_count": 4,
   "metadata": {},
   "outputs": [
    {
     "data": {
      "text/html": [
       "<div>\n",
       "<style scoped>\n",
       "    .dataframe tbody tr th:only-of-type {\n",
       "        vertical-align: middle;\n",
       "    }\n",
       "\n",
       "    .dataframe tbody tr th {\n",
       "        vertical-align: top;\n",
       "    }\n",
       "\n",
       "    .dataframe thead th {\n",
       "        text-align: right;\n",
       "    }\n",
       "</style>\n",
       "<table border=\"1\" class=\"dataframe\">\n",
       "  <thead>\n",
       "    <tr style=\"text-align: right;\">\n",
       "      <th></th>\n",
       "      <th>id</th>\n",
       "      <th>name</th>\n",
       "      <th>host_id</th>\n",
       "      <th>host_name</th>\n",
       "      <th>neighbourhood_group</th>\n",
       "      <th>neighbourhood</th>\n",
       "      <th>latitude</th>\n",
       "      <th>longitude</th>\n",
       "      <th>room_type</th>\n",
       "      <th>price</th>\n",
       "      <th>minimum_nights</th>\n",
       "      <th>number_of_reviews</th>\n",
       "      <th>last_review</th>\n",
       "      <th>reviews_per_month</th>\n",
       "      <th>calculated_host_listings_count</th>\n",
       "      <th>availability_365</th>\n",
       "    </tr>\n",
       "  </thead>\n",
       "  <tbody>\n",
       "    <tr>\n",
       "      <th>0</th>\n",
       "      <td>2539</td>\n",
       "      <td>Clean &amp; quiet apt home by the park</td>\n",
       "      <td>2787</td>\n",
       "      <td>John</td>\n",
       "      <td>Brooklyn</td>\n",
       "      <td>Kensington</td>\n",
       "      <td>40.64749</td>\n",
       "      <td>-73.97237</td>\n",
       "      <td>Private room</td>\n",
       "      <td>149</td>\n",
       "      <td>1</td>\n",
       "      <td>9</td>\n",
       "      <td>2018-10-19</td>\n",
       "      <td>0.21</td>\n",
       "      <td>6</td>\n",
       "      <td>365</td>\n",
       "    </tr>\n",
       "    <tr>\n",
       "      <th>1</th>\n",
       "      <td>2595</td>\n",
       "      <td>Skylit Midtown Castle</td>\n",
       "      <td>2845</td>\n",
       "      <td>Jennifer</td>\n",
       "      <td>Manhattan</td>\n",
       "      <td>Midtown</td>\n",
       "      <td>40.75362</td>\n",
       "      <td>-73.98377</td>\n",
       "      <td>Entire home/apt</td>\n",
       "      <td>225</td>\n",
       "      <td>1</td>\n",
       "      <td>45</td>\n",
       "      <td>2019-05-21</td>\n",
       "      <td>0.38</td>\n",
       "      <td>2</td>\n",
       "      <td>355</td>\n",
       "    </tr>\n",
       "    <tr>\n",
       "      <th>2</th>\n",
       "      <td>3647</td>\n",
       "      <td>THE VILLAGE OF HARLEM....NEW YORK !</td>\n",
       "      <td>4632</td>\n",
       "      <td>Elisabeth</td>\n",
       "      <td>Manhattan</td>\n",
       "      <td>Harlem</td>\n",
       "      <td>40.80902</td>\n",
       "      <td>-73.94190</td>\n",
       "      <td>Private room</td>\n",
       "      <td>150</td>\n",
       "      <td>3</td>\n",
       "      <td>0</td>\n",
       "      <td>NaN</td>\n",
       "      <td>NaN</td>\n",
       "      <td>1</td>\n",
       "      <td>365</td>\n",
       "    </tr>\n",
       "    <tr>\n",
       "      <th>3</th>\n",
       "      <td>3831</td>\n",
       "      <td>Cozy Entire Floor of Brownstone</td>\n",
       "      <td>4869</td>\n",
       "      <td>LisaRoxanne</td>\n",
       "      <td>Brooklyn</td>\n",
       "      <td>Clinton Hill</td>\n",
       "      <td>40.68514</td>\n",
       "      <td>-73.95976</td>\n",
       "      <td>Entire home/apt</td>\n",
       "      <td>89</td>\n",
       "      <td>1</td>\n",
       "      <td>270</td>\n",
       "      <td>2019-07-05</td>\n",
       "      <td>4.64</td>\n",
       "      <td>1</td>\n",
       "      <td>194</td>\n",
       "    </tr>\n",
       "    <tr>\n",
       "      <th>4</th>\n",
       "      <td>5022</td>\n",
       "      <td>Entire Apt: Spacious Studio/Loft by central park</td>\n",
       "      <td>7192</td>\n",
       "      <td>Laura</td>\n",
       "      <td>Manhattan</td>\n",
       "      <td>East Harlem</td>\n",
       "      <td>40.79851</td>\n",
       "      <td>-73.94399</td>\n",
       "      <td>Entire home/apt</td>\n",
       "      <td>80</td>\n",
       "      <td>10</td>\n",
       "      <td>9</td>\n",
       "      <td>2018-11-19</td>\n",
       "      <td>0.10</td>\n",
       "      <td>1</td>\n",
       "      <td>0</td>\n",
       "    </tr>\n",
       "  </tbody>\n",
       "</table>\n",
       "</div>"
      ],
      "text/plain": [
       "     id                                              name  host_id  \\\n",
       "0  2539                Clean & quiet apt home by the park     2787   \n",
       "1  2595                             Skylit Midtown Castle     2845   \n",
       "2  3647               THE VILLAGE OF HARLEM....NEW YORK !     4632   \n",
       "3  3831                   Cozy Entire Floor of Brownstone     4869   \n",
       "4  5022  Entire Apt: Spacious Studio/Loft by central park     7192   \n",
       "\n",
       "     host_name neighbourhood_group neighbourhood  latitude  longitude  \\\n",
       "0         John            Brooklyn    Kensington  40.64749  -73.97237   \n",
       "1     Jennifer           Manhattan       Midtown  40.75362  -73.98377   \n",
       "2    Elisabeth           Manhattan        Harlem  40.80902  -73.94190   \n",
       "3  LisaRoxanne            Brooklyn  Clinton Hill  40.68514  -73.95976   \n",
       "4        Laura           Manhattan   East Harlem  40.79851  -73.94399   \n",
       "\n",
       "         room_type  price  minimum_nights  number_of_reviews last_review  \\\n",
       "0     Private room    149               1                  9  2018-10-19   \n",
       "1  Entire home/apt    225               1                 45  2019-05-21   \n",
       "2     Private room    150               3                  0         NaN   \n",
       "3  Entire home/apt     89               1                270  2019-07-05   \n",
       "4  Entire home/apt     80              10                  9  2018-11-19   \n",
       "\n",
       "   reviews_per_month  calculated_host_listings_count  availability_365  \n",
       "0               0.21                               6               365  \n",
       "1               0.38                               2               355  \n",
       "2                NaN                               1               365  \n",
       "3               4.64                               1               194  \n",
       "4               0.10                               1                 0  "
      ]
     },
     "execution_count": 4,
     "metadata": {},
     "output_type": "execute_result"
    }
   ],
   "source": [
    "main_df = pd.read_csv('nyc.csv')\n",
    "main_df.head()"
   ]
  },
  {
   "cell_type": "markdown",
   "metadata": {},
   "source": [
    "Each entry gives us information about the property.\n",
    "* The `name` of the property is set by the host\n",
    "* `host_id` and `host_name` are identification ids of the host for Airbnb\n",
    "* There are five groups in `neighbourhood_group`, shown above\n",
    "* The `neighbourhood` tells us which specific neighbourhood in the group the property belongs to\n",
    "* `latitude` and `longitude` give us the coordinates of the location. We can use this with folium to map all the locations\n",
    "* `room_type` indicates the type of room the property is\n",
    "* `price` will be the attribute we will try to predict\n",
    "* `minimum_nights` are the minimum number of nights the property has to be booked for\n",
    "* `number_of_reviews`, `last_review`, and `reviews_per_month` give us information about the reviews of each property. Unfortunately, we don't have the actual reviews or rating\n",
    "* `calculated_host_listings_count` and `availability_365` are additional features that tell us how many total properties the host has, and how long this property is available in a year\n",
    "\n",
    "Let's examine some basic stats:\n",
    "\n",
    "There are close to 50k entries, so we want to sample data for plotting. Data seems to missing for some fields, most noticeably those relating to the number of reviews."
   ]
  },
  {
   "cell_type": "code",
   "execution_count": 5,
   "metadata": {},
   "outputs": [
    {
     "name": "stdout",
     "output_type": "stream",
     "text": [
      "<class 'pandas.core.frame.DataFrame'>\n",
      "RangeIndex: 48895 entries, 0 to 48894\n",
      "Data columns (total 16 columns):\n",
      "id                                48895 non-null int64\n",
      "name                              48879 non-null object\n",
      "host_id                           48895 non-null int64\n",
      "host_name                         48874 non-null object\n",
      "neighbourhood_group               48895 non-null object\n",
      "neighbourhood                     48895 non-null object\n",
      "latitude                          48895 non-null float64\n",
      "longitude                         48895 non-null float64\n",
      "room_type                         48895 non-null object\n",
      "price                             48895 non-null int64\n",
      "minimum_nights                    48895 non-null int64\n",
      "number_of_reviews                 48895 non-null int64\n",
      "last_review                       38843 non-null object\n",
      "reviews_per_month                 38843 non-null float64\n",
      "calculated_host_listings_count    48895 non-null int64\n",
      "availability_365                  48895 non-null int64\n",
      "dtypes: float64(3), int64(7), object(6)\n",
      "memory usage: 6.0+ MB\n",
      "None\n"
     ]
    }
   ],
   "source": [
    "print(main_df.info())"
   ]
  },
  {
   "cell_type": "markdown",
   "metadata": {},
   "source": [
    "Let's examine the categorical variables."
   ]
  },
  {
   "cell_type": "code",
   "execution_count": 10,
   "metadata": {},
   "outputs": [
    {
     "name": "stdout",
     "output_type": "stream",
     "text": [
      "Neighbourhood Groups: ['Brooklyn', 'Manhattan', 'Queens', 'Staten Island', 'Bronx']\n",
      "Room Types: ['Private room', 'Entire home/apt', 'Shared room']\n"
     ]
    }
   ],
   "source": [
    "print(\"Neighbourhood Groups:\", main_df['neighbourhood_group'].unique().tolist())\n",
    "print(\"Room Types:\", main_df['room_type'].unique().tolist())"
   ]
  },
  {
   "cell_type": "markdown",
   "metadata": {},
   "source": [
    "We are going to be working with Airbnbs in the five boroughs in New York City. There are three types of rooms: shared rooms, private rooms, or the entire home or apartment. We can expect the rooms to have a significant impact on the price, as people would prefer to have an entire home to themselves rather than a shared room, so homeowners will likely charge more. We will explore this later."
   ]
  },
  {
   "cell_type": "markdown",
   "metadata": {},
   "source": [
    "How about price? Let's see what our typically Airbnb is priced at, as well as what the outliers look like."
   ]
  },
  {
   "cell_type": "code",
   "execution_count": 51,
   "metadata": {},
   "outputs": [
    {
     "name": "stdout",
     "output_type": "stream",
     "text": [
      "count    48895.000000\n",
      "mean       152.720687\n",
      "std        240.154170\n",
      "min          0.000000\n",
      "25%         69.000000\n",
      "50%        106.000000\n",
      "75%        175.000000\n",
      "95%        355.000000\n",
      "max      10000.000000\n",
      "Name: price, dtype: float64\n"
     ]
    }
   ],
   "source": [
    "print(main_df['price'].describe(percentiles=[.25, .50, .75, .95]))"
   ]
  },
  {
   "cell_type": "markdown",
   "metadata": {},
   "source": [
    "We find that there are some very large outliers, so for visualization purposes, we winsorize (ignore) the top 5% of data, about $400."
   ]
  },
  {
   "cell_type": "markdown",
   "metadata": {},
   "source": [
    "## Data Exploration\n",
    "---\n",
    "Now that we have seen the data that we are working with, let's visualize our data in order to get a better understanding of it.\n",
    "\n",
    "We'll start by looking at some geographical data: \n",
    "* what boroughs have the most rooms?\n",
    "* what is the price distribution of rooms per borough?\n",
    "* what is the frequency and price distribution of rooms per room type?\n",
    "\n",
    "\n",
    "#### Neighbourhood Groups"
   ]
  },
  {
   "cell_type": "code",
   "execution_count": 13,
   "metadata": {
    "scrolled": true
   },
   "outputs": [
    {
     "data": {
      "image/png": "[encoded data removed]",
      "text/plain": [
       "<Figure size 432x288 with 1 Axes>"
      ]
     },
     "metadata": {
      "needs_background": "light"
     },
     "output_type": "display_data"
    }
   ],
   "source": [
    "ax = sns.countplot('neighbourhood_group',data=main_df,order=main_df['neighbourhood_group'].value_counts().index)\n",
    "ax.set_title('Share of Neighborhood')\n",
    "plt.show()"
   ]
  },
  {
   "cell_type": "markdown",
   "metadata": {},
   "source": [
    "Manhattan and Brooklyn have the highest number of listings, at around 20K each. This can be attributed to the fact that both of those neighbourhoods have more of the tourist attractions, so people would typically want to stay close to what they are seeing."
   ]
  },
  {
   "cell_type": "code",
   "execution_count": 14,
   "metadata": {},
   "outputs": [
    {
     "data": {
      "image/png": "[encoded data removed]",
      "text/plain": [
       "<Figure size 432x288 with 1 Axes>"
      ]
     },
     "metadata": {
      "needs_background": "light"
     },
     "output_type": "display_data"
    }
   ],
   "source": [
    "# ax = sns.scatterplot(x='neighbourhood_group', y='price', data=main_df, s=14)\n",
    "\n",
    "#we can see from our statistical table that we have some extreme values, therefore we need to remove them for the sake of a better visualization\n",
    "\n",
    "#creating a sub-dataframe with no extreme values / less than 500\n",
    "winsorized_df=main_df[main_df.price < 400]\n",
    "#using violinplot to showcase density and distribtuion of prices \n",
    "viz_2=sns.violinplot(data=winsorized_df, x='neighbourhood_group', y='price')\n",
    "viz_2.set_title('Price distribution for each neighbourhood')\n",
    "plt.show()"
   ]
  },
  {
   "cell_type": "markdown",
   "metadata": {},
   "source": [
    "Here we can see the distribution of prices of properties, based on which neighbourhood group they belong to. We can see that Manhattan sems to have more of the higher priced properties. Bronx, Staten Island, and Queens have much more reasonable prices compared to Brooklyn and Manhattan. All distributions have positive skew.\n",
    "\n",
    "#### Room Type\n",
    "Now that we've looked at the locations for the Airbnbs, let's explore the room types and how the price distribution changes."
   ]
  },
  {
   "cell_type": "code",
   "execution_count": 15,
   "metadata": {},
   "outputs": [
    {
     "data": {
      "image/png": "[encoded data removed]",
      "text/plain": [
       "<Figure size 432x288 with 1 Axes>"
      ]
     },
     "metadata": {
      "needs_background": "light"
     },
     "output_type": "display_data"
    }
   ],
   "source": [
    "main_df.groupby('room_type').size().plot.bar()\n",
    "plt.title(\"Share of Room Type\")\n",
    "plt.show()"
   ]
  },
  {
   "cell_type": "markdown",
   "metadata": {},
   "source": [
    "We also see that entire homes and private rooms are the most common, which may be because the demand for shared rooms is typically lower."
   ]
  },
  {
   "cell_type": "code",
   "execution_count": 16,
   "metadata": {
    "scrolled": true
   },
   "outputs": [
    {
     "data": {
      "image/png": "[encoded data removed]",
      "text/plain": [
       "<Figure size 432x288 with 1 Axes>"
      ]
     },
     "metadata": {
      "needs_background": "light"
     },
     "output_type": "display_data"
    }
   ],
   "source": [
    "winsorized_df=main_df[main_df.price < 400]\n",
    "#using violinplot to showcase density and distribtuion of prices \n",
    "viz_2=sns.violinplot(data=winsorized_df, x='room_type', y='price')\n",
    "viz_2.set_title('Price distribution by room type')\n",
    "plt.show()"
   ]
  },
  {
   "cell_type": "markdown",
   "metadata": {},
   "source": [
    "As expected, shared rooms have the lowest mean price, while entire homes have the highest. All room types seem to have a similar spread, however private rooms and shared rooms seemd to be more centered around their mean. There is more disparity of price with entire homes. "
   ]
  },
  {
   "cell_type": "markdown",
   "metadata": {},
   "source": [
    "Now let's see how the prices look on a map of New York City, so we can really visualize our data. First, We'll use folium to create a map centered around New York City. Because of issues with rendering the full dataset, we will randomly assign a value to each data point (between 0 and 1), and plot it on the map if the random value is less than .02, giving each data point a 2% random chance of being plotted.\n",
    "\n",
    "Let's create a color scale for the markers that will be shown on the map. If we want 5 increments in our color scale, we'll split the prices into 5 even chunks and assign a color for each chunk."
   ]
  },
  {
   "cell_type": "code",
   "execution_count": 17,
   "metadata": {},
   "outputs": [
    {
     "name": "stdout",
     "output_type": "stream",
     "text": [
      "144\n",
      "278\n",
      "430\n",
      "805\n",
      "7703\n"
     ]
    }
   ],
   "source": [
    "prices = sorted(main_df['price'].unique().tolist())\n",
    "partition_length = len(prices)//5 # we want 5 increments for our color scale\n",
    "current = 0\n",
    "for i in range(5):\n",
    "    print(prices[current:current+partition_length][-1])\n",
    "    current += partition_length"
   ]
  },
  {
   "cell_type": "code",
   "execution_count": 18,
   "metadata": {},
   "outputs": [],
   "source": [
    "# Assigning colors to the partitions\n",
    "def get_color(price):\n",
    "    if price <= 144:\n",
    "        return 'darkblue'\n",
    "    elif price <= 278:\n",
    "        return 'lightblue'\n",
    "    elif price <= 430:\n",
    "        return 'lightred'\n",
    "    elif price <= 805:\n",
    "        return 'orange'\n",
    "    else:\n",
    "        return 'red'"
   ]
  },
  {
   "cell_type": "code",
   "execution_count": 19,
   "metadata": {},
   "outputs": [
    {
     "ename": "NameError",
     "evalue": "name 'folium' is not defined",
     "output_type": "error",
     "traceback": [
      "\u001b[0;31m---------------------------------------------------------------------------\u001b[0m",
      "\u001b[0;31mNameError\u001b[0m                                 Traceback (most recent call last)",
      "\u001b[0;32m<ipython-input-19-747801df45ed>\u001b[0m in \u001b[0;36m<module>\u001b[0;34m\u001b[0m\n\u001b[0;32m----> 1\u001b[0;31m \u001b[0mm\u001b[0m \u001b[0;34m=\u001b[0m \u001b[0mfolium\u001b[0m\u001b[0;34m.\u001b[0m\u001b[0mMap\u001b[0m\u001b[0;34m(\u001b[0m\u001b[0mlocation\u001b[0m\u001b[0;34m=\u001b[0m\u001b[0;34m[\u001b[0m\u001b[0;36m40.71455\u001b[0m\u001b[0;34m,\u001b[0m \u001b[0;34m-\u001b[0m\u001b[0;36m74.00712\u001b[0m\u001b[0;34m]\u001b[0m\u001b[0;34m,\u001b[0m \u001b[0mzoom_start\u001b[0m\u001b[0;34m=\u001b[0m\u001b[0;36m13\u001b[0m\u001b[0;34m)\u001b[0m \u001b[0;31m# Creating a folium map\u001b[0m\u001b[0;34m\u001b[0m\u001b[0;34m\u001b[0m\u001b[0m\n\u001b[0m\u001b[1;32m      2\u001b[0m \u001b[0;34m\u001b[0m\u001b[0m\n\u001b[1;32m      3\u001b[0m \u001b[0;31m#mc = MarkerCluster()\u001b[0m\u001b[0;34m\u001b[0m\u001b[0;34m\u001b[0m\u001b[0;34m\u001b[0m\u001b[0m\n\u001b[1;32m      4\u001b[0m \u001b[0;32mimport\u001b[0m \u001b[0mrandom\u001b[0m\u001b[0;34m\u001b[0m\u001b[0;34m\u001b[0m\u001b[0m\n\u001b[1;32m      5\u001b[0m \u001b[0;32mfor\u001b[0m \u001b[0mi\u001b[0m\u001b[0;34m,\u001b[0m\u001b[0mrow\u001b[0m \u001b[0;32min\u001b[0m \u001b[0mmain_df\u001b[0m\u001b[0;34m.\u001b[0m\u001b[0msample\u001b[0m\u001b[0;34m(\u001b[0m\u001b[0;36m1000\u001b[0m\u001b[0;34m)\u001b[0m\u001b[0;34m.\u001b[0m\u001b[0miterrows\u001b[0m\u001b[0;34m(\u001b[0m\u001b[0;34m)\u001b[0m\u001b[0;34m:\u001b[0m\u001b[0;34m\u001b[0m\u001b[0;34m\u001b[0m\u001b[0m\n",
      "\u001b[0;31mNameError\u001b[0m: name 'folium' is not defined"
     ]
    }
   ],
   "source": [
    "m = folium.Map(location=[40.71455, -74.00712], zoom_start=13) # Creating a folium map\n",
    "\n",
    "#mc = MarkerCluster()\n",
    "import random\n",
    "for i,row in main_df.sample(1000).iterrows():\n",
    "#     if random.random() < .015:\n",
    "    name = row['name']\n",
    "    neighbourhood_group = row['neighbourhood_group']\n",
    "    neighborhood = row['neighbourhood']\n",
    "    lat = row['latitude']\n",
    "    long = row['longitude']\n",
    "    room_type = row['room_type']\n",
    "    price = row['price']\n",
    "    min_nights = row['minimum_nights']\n",
    "    c = get_color(price)\n",
    "\n",
    "    folium.CircleMarker(location=[lat, long], \n",
    "                        color=c, \n",
    "                        radius=2,\n",
    "                        popup=(str(name)+\": $\"+str(price))).add_to(m)\n",
    "\n",
    "    #mc.add_child(folium.Marker(location=[lat, long], icon=folium.Icon(color=c), popup=(str(name)+\": $\"+str(price))))\n",
    "minimap = MiniMap()\n",
    "m.add_child(minimap)\n",
    "display(m)"
   ]
  },
  {
   "cell_type": "code",
   "execution_count": 57,
   "metadata": {},
   "outputs": [],
   "source": [
    "%%capture\n",
    "# Geographic plot using Plotly\n",
    "# Uncomment following line if plotly module not found\n",
    "# !pip install plotly\n",
    "import plotly.graph_objects as go\n",
    "\n",
    "sample_df = winsorized_df.sample(1000)\n",
    "\n",
    "# mapbox_access_token = open(\".mapbox_token\").read()\n",
    "mapbox_access_token = \"pk.eyJ1IjoibWFvc2VmIiwiYSI6ImNrMTNzYXY5dDBjcHIzbW51d2J1ZjJweHoifQ.CA3fec_PEoQHxf9jr7yGaA\"\n",
    "\n",
    "fig = go.Figure(go.Scattermapbox(\n",
    "        lon = sample_df['longitude'],\n",
    "        lat = sample_df['latitude'],\n",
    "        mode='markers',\n",
    "        marker=go.scattermapbox.Marker(\n",
    "            size=5,\n",
    "            color = sample_df['price'],\n",
    "            colorscale=\"RdBu\",\n",
    "            reversescale=True,\n",
    "            colorbar=dict(\n",
    "                title=\"Price ($)\"\n",
    "            ),\n",
    "        ),\n",
    "#         color_continuous_scale=\"IceFire\",\n",
    "#         text=['Montreal'],\n",
    "    ))\n",
    "\n",
    "fig.update_layout(\n",
    "    title=\"Airbnb prices in New York City\",\n",
    "    hovermode='closest',\n",
    "    mapbox=go.layout.Mapbox(\n",
    "        accesstoken=mapbox_access_token,\n",
    "        bearing=0,\n",
    "        center=go.layout.mapbox.Center(\n",
    "            lat=40.7,\n",
    "            lon=-74\n",
    "        ),\n",
    "        pitch=0,\n",
    "        zoom=9\n",
    "    )\n",
    ")\n",
    "\n",
    "fig.show()"
   ]
  },
  {
   "cell_type": "markdown",
   "metadata": {},
   "source": [
    "*Due to display issues when rendering to HTML, here is a screenshot of the output from the above code:*\n",
    "![nyc_price_map](mapbox.png \"Airbnb Prices in NYC\")\n",
    "\n",
    "We see there is definitely clustering of higher prices in downtown Manhattan. There are also noticeable clusters in Upper Brooklyn and Upper Manhattan. Location could provide a good signal of price.\n",
    "\n",
    "Let's examine the text of the reviews, and plot the most common words."
   ]
  },
  {
   "cell_type": "code",
   "execution_count": 58,
   "metadata": {},
   "outputs": [],
   "source": [
    "#### Popularity (Reviews per month)\n",
    "#### NLP on Name"
   ]
  },
  {
   "cell_type": "markdown",
   "metadata": {},
   "source": [
    "We look at a correlation plot among the numerical variables. We don't see any strong correlations between meaningful variables, except number_of_reviews vs reviews_per_month\n",
    "\n",
    "\n"
   ]
  },
  {
   "cell_type": "code",
   "execution_count": 59,
   "metadata": {},
   "outputs": [
    {
     "data": {
      "text/html": [
       "<style  type=\"text/css\" >\n",
       "    #T_3d362e08_1d66_11ea_84e7_4b7a416f77d7row0_col0 {\n",
       "            background-color:  #b40426;\n",
       "            color:  #f1f1f1;\n",
       "        }    #T_3d362e08_1d66_11ea_84e7_4b7a416f77d7row0_col1 {\n",
       "            background-color:  #f5c0a7;\n",
       "            color:  #000000;\n",
       "        }    #T_3d362e08_1d66_11ea_84e7_4b7a416f77d7row0_col2 {\n",
       "            background-color:  #3e51c5;\n",
       "            color:  #f1f1f1;\n",
       "        }    #T_3d362e08_1d66_11ea_84e7_4b7a416f77d7row0_col3 {\n",
       "            background-color:  #7ea1fa;\n",
       "            color:  #000000;\n",
       "        }    #T_3d362e08_1d66_11ea_84e7_4b7a416f77d7row0_col4 {\n",
       "            background-color:  #6687ed;\n",
       "            color:  #000000;\n",
       "        }    #T_3d362e08_1d66_11ea_84e7_4b7a416f77d7row0_col5 {\n",
       "            background-color:  #5875e1;\n",
       "            color:  #000000;\n",
       "        }    #T_3d362e08_1d66_11ea_84e7_4b7a416f77d7row0_col6 {\n",
       "            background-color:  #3b4cc0;\n",
       "            color:  #f1f1f1;\n",
       "        }    #T_3d362e08_1d66_11ea_84e7_4b7a416f77d7row0_col7 {\n",
       "            background-color:  #b6cefa;\n",
       "            color:  #000000;\n",
       "        }    #T_3d362e08_1d66_11ea_84e7_4b7a416f77d7row0_col8 {\n",
       "            background-color:  #82a6fb;\n",
       "            color:  #000000;\n",
       "        }    #T_3d362e08_1d66_11ea_84e7_4b7a416f77d7row0_col9 {\n",
       "            background-color:  #5875e1;\n",
       "            color:  #000000;\n",
       "        }    #T_3d362e08_1d66_11ea_84e7_4b7a416f77d7row1_col0 {\n",
       "            background-color:  #f7b093;\n",
       "            color:  #000000;\n",
       "        }    #T_3d362e08_1d66_11ea_84e7_4b7a416f77d7row1_col1 {\n",
       "            background-color:  #b40426;\n",
       "            color:  #f1f1f1;\n",
       "        }    #T_3d362e08_1d66_11ea_84e7_4b7a416f77d7row1_col2 {\n",
       "            background-color:  #445acc;\n",
       "            color:  #f1f1f1;\n",
       "        }    #T_3d362e08_1d66_11ea_84e7_4b7a416f77d7row1_col3 {\n",
       "            background-color:  #89acfd;\n",
       "            color:  #000000;\n",
       "        }    #T_3d362e08_1d66_11ea_84e7_4b7a416f77d7row1_col4 {\n",
       "            background-color:  #6788ee;\n",
       "            color:  #000000;\n",
       "        }    #T_3d362e08_1d66_11ea_84e7_4b7a416f77d7row1_col5 {\n",
       "            background-color:  #5673e0;\n",
       "            color:  #000000;\n",
       "        }    #T_3d362e08_1d66_11ea_84e7_4b7a416f77d7row1_col6 {\n",
       "            background-color:  #6485ec;\n",
       "            color:  #000000;\n",
       "        }    #T_3d362e08_1d66_11ea_84e7_4b7a416f77d7row1_col7 {\n",
       "            background-color:  #b7cff9;\n",
       "            color:  #000000;\n",
       "        }    #T_3d362e08_1d66_11ea_84e7_4b7a416f77d7row1_col8 {\n",
       "            background-color:  #89acfd;\n",
       "            color:  #000000;\n",
       "        }    #T_3d362e08_1d66_11ea_84e7_4b7a416f77d7row1_col9 {\n",
       "            background-color:  #80a3fa;\n",
       "            color:  #000000;\n",
       "        }    #T_3d362e08_1d66_11ea_84e7_4b7a416f77d7row2_col0 {\n",
       "            background-color:  #89acfd;\n",
       "            color:  #000000;\n",
       "        }    #T_3d362e08_1d66_11ea_84e7_4b7a416f77d7row2_col1 {\n",
       "            background-color:  #6788ee;\n",
       "            color:  #000000;\n",
       "        }    #T_3d362e08_1d66_11ea_84e7_4b7a416f77d7row2_col2 {\n",
       "            background-color:  #b40426;\n",
       "            color:  #f1f1f1;\n",
       "        }    #T_3d362e08_1d66_11ea_84e7_4b7a416f77d7row2_col3 {\n",
       "            background-color:  #7da0f9;\n",
       "            color:  #000000;\n",
       "        }    #T_3d362e08_1d66_11ea_84e7_4b7a416f77d7row2_col4 {\n",
       "            background-color:  #6c8ff1;\n",
       "            color:  #000000;\n",
       "        }    #T_3d362e08_1d66_11ea_84e7_4b7a416f77d7row2_col5 {\n",
       "            background-color:  #6384eb;\n",
       "            color:  #000000;\n",
       "        }    #T_3d362e08_1d66_11ea_84e7_4b7a416f77d7row2_col6 {\n",
       "            background-color:  #86a9fc;\n",
       "            color:  #000000;\n",
       "        }    #T_3d362e08_1d66_11ea_84e7_4b7a416f77d7row2_col7 {\n",
       "            background-color:  #5977e3;\n",
       "            color:  #000000;\n",
       "        }    #T_3d362e08_1d66_11ea_84e7_4b7a416f77d7row2_col8 {\n",
       "            background-color:  #5f7fe8;\n",
       "            color:  #000000;\n",
       "        }    #T_3d362e08_1d66_11ea_84e7_4b7a416f77d7row2_col9 {\n",
       "            background-color:  #3b4cc0;\n",
       "            color:  #f1f1f1;\n",
       "        }    #T_3d362e08_1d66_11ea_84e7_4b7a416f77d7row3_col0 {\n",
       "            background-color:  #a2c1ff;\n",
       "            color:  #000000;\n",
       "        }    #T_3d362e08_1d66_11ea_84e7_4b7a416f77d7row3_col1 {\n",
       "            background-color:  #86a9fc;\n",
       "            color:  #000000;\n",
       "        }    #T_3d362e08_1d66_11ea_84e7_4b7a416f77d7row3_col2 {\n",
       "            background-color:  #5977e3;\n",
       "            color:  #000000;\n",
       "        }    #T_3d362e08_1d66_11ea_84e7_4b7a416f77d7row3_col3 {\n",
       "            background-color:  #b40426;\n",
       "            color:  #f1f1f1;\n",
       "        }    #T_3d362e08_1d66_11ea_84e7_4b7a416f77d7row3_col4 {\n",
       "            background-color:  #3b4cc0;\n",
       "            color:  #f1f1f1;\n",
       "        }    #T_3d362e08_1d66_11ea_84e7_4b7a416f77d7row3_col5 {\n",
       "            background-color:  #4a63d3;\n",
       "            color:  #f1f1f1;\n",
       "        }    #T_3d362e08_1d66_11ea_84e7_4b7a416f77d7row3_col6 {\n",
       "            background-color:  #9abbff;\n",
       "            color:  #000000;\n",
       "        }    #T_3d362e08_1d66_11ea_84e7_4b7a416f77d7row3_col7 {\n",
       "            background-color:  #89acfd;\n",
       "            color:  #000000;\n",
       "        }    #T_3d362e08_1d66_11ea_84e7_4b7a416f77d7row3_col8 {\n",
       "            background-color:  #3b4cc0;\n",
       "            color:  #f1f1f1;\n",
       "        }    #T_3d362e08_1d66_11ea_84e7_4b7a416f77d7row3_col9 {\n",
       "            background-color:  #5673e0;\n",
       "            color:  #000000;\n",
       "        }    #T_3d362e08_1d66_11ea_84e7_4b7a416f77d7row4_col0 {\n",
       "            background-color:  #8db0fe;\n",
       "            color:  #000000;\n",
       "        }    #T_3d362e08_1d66_11ea_84e7_4b7a416f77d7row4_col1 {\n",
       "            background-color:  #6485ec;\n",
       "            color:  #000000;\n",
       "        }    #T_3d362e08_1d66_11ea_84e7_4b7a416f77d7row4_col2 {\n",
       "            background-color:  #4961d2;\n",
       "            color:  #f1f1f1;\n",
       "        }    #T_3d362e08_1d66_11ea_84e7_4b7a416f77d7row4_col3 {\n",
       "            background-color:  #3b4cc0;\n",
       "            color:  #f1f1f1;\n",
       "        }    #T_3d362e08_1d66_11ea_84e7_4b7a416f77d7row4_col4 {\n",
       "            background-color:  #b40426;\n",
       "            color:  #f1f1f1;\n",
       "        }    #T_3d362e08_1d66_11ea_84e7_4b7a416f77d7row4_col5 {\n",
       "            background-color:  #688aef;\n",
       "            color:  #000000;\n",
       "        }    #T_3d362e08_1d66_11ea_84e7_4b7a416f77d7row4_col6 {\n",
       "            background-color:  #7da0f9;\n",
       "            color:  #000000;\n",
       "        }    #T_3d362e08_1d66_11ea_84e7_4b7a416f77d7row4_col7 {\n",
       "            background-color:  #536edd;\n",
       "            color:  #000000;\n",
       "        }    #T_3d362e08_1d66_11ea_84e7_4b7a416f77d7row4_col8 {\n",
       "            background-color:  #6b8df0;\n",
       "            color:  #000000;\n",
       "        }    #T_3d362e08_1d66_11ea_84e7_4b7a416f77d7row4_col9 {\n",
       "            background-color:  #5673e0;\n",
       "            color:  #000000;\n",
       "        }    #T_3d362e08_1d66_11ea_84e7_4b7a416f77d7row5_col0 {\n",
       "            background-color:  #86a9fc;\n",
       "            color:  #000000;\n",
       "        }    #T_3d362e08_1d66_11ea_84e7_4b7a416f77d7row5_col1 {\n",
       "            background-color:  #5b7ae5;\n",
       "            color:  #000000;\n",
       "        }    #T_3d362e08_1d66_11ea_84e7_4b7a416f77d7row5_col2 {\n",
       "            background-color:  #465ecf;\n",
       "            color:  #f1f1f1;\n",
       "        }    #T_3d362e08_1d66_11ea_84e7_4b7a416f77d7row5_col3 {\n",
       "            background-color:  #516ddb;\n",
       "            color:  #000000;\n",
       "        }    #T_3d362e08_1d66_11ea_84e7_4b7a416f77d7row5_col4 {\n",
       "            background-color:  #6f92f3;\n",
       "            color:  #000000;\n",
       "        }    #T_3d362e08_1d66_11ea_84e7_4b7a416f77d7row5_col5 {\n",
       "            background-color:  #b40426;\n",
       "            color:  #f1f1f1;\n",
       "        }    #T_3d362e08_1d66_11ea_84e7_4b7a416f77d7row5_col6 {\n",
       "            background-color:  #7597f6;\n",
       "            color:  #000000;\n",
       "        }    #T_3d362e08_1d66_11ea_84e7_4b7a416f77d7row5_col7 {\n",
       "            background-color:  #3b4cc0;\n",
       "            color:  #f1f1f1;\n",
       "        }    #T_3d362e08_1d66_11ea_84e7_4b7a416f77d7row5_col8 {\n",
       "            background-color:  #81a4fb;\n",
       "            color:  #000000;\n",
       "        }    #T_3d362e08_1d66_11ea_84e7_4b7a416f77d7row5_col9 {\n",
       "            background-color:  #6b8df0;\n",
       "            color:  #000000;\n",
       "        }    #T_3d362e08_1d66_11ea_84e7_4b7a416f77d7row6_col0 {\n",
       "            background-color:  #3b4cc0;\n",
       "            color:  #f1f1f1;\n",
       "        }    #T_3d362e08_1d66_11ea_84e7_4b7a416f77d7row6_col1 {\n",
       "            background-color:  #3b4cc0;\n",
       "            color:  #f1f1f1;\n",
       "        }    #T_3d362e08_1d66_11ea_84e7_4b7a416f77d7row6_col2 {\n",
       "            background-color:  #3b4cc0;\n",
       "            color:  #f1f1f1;\n",
       "        }    #T_3d362e08_1d66_11ea_84e7_4b7a416f77d7row6_col3 {\n",
       "            background-color:  #7597f6;\n",
       "            color:  #000000;\n",
       "        }    #T_3d362e08_1d66_11ea_84e7_4b7a416f77d7row6_col4 {\n",
       "            background-color:  #5572df;\n",
       "            color:  #000000;\n",
       "        }    #T_3d362e08_1d66_11ea_84e7_4b7a416f77d7row6_col5 {\n",
       "            background-color:  #455cce;\n",
       "            color:  #f1f1f1;\n",
       "        }    #T_3d362e08_1d66_11ea_84e7_4b7a416f77d7row6_col6 {\n",
       "            background-color:  #b40426;\n",
       "            color:  #f1f1f1;\n",
       "        }    #T_3d362e08_1d66_11ea_84e7_4b7a416f77d7row6_col7 {\n",
       "            background-color:  #f2cbb7;\n",
       "            color:  #000000;\n",
       "        }    #T_3d362e08_1d66_11ea_84e7_4b7a416f77d7row6_col8 {\n",
       "            background-color:  #455cce;\n",
       "            color:  #f1f1f1;\n",
       "        }    #T_3d362e08_1d66_11ea_84e7_4b7a416f77d7row6_col9 {\n",
       "            background-color:  #7597f6;\n",
       "            color:  #000000;\n",
       "        }    #T_3d362e08_1d66_11ea_84e7_4b7a416f77d7row7_col0 {\n",
       "            background-color:  #d3dbe7;\n",
       "            color:  #000000;\n",
       "        }    #T_3d362e08_1d66_11ea_84e7_4b7a416f77d7row7_col1 {\n",
       "            background-color:  #bbd1f8;\n",
       "            color:  #000000;\n",
       "        }    #T_3d362e08_1d66_11ea_84e7_4b7a416f77d7row7_col2 {\n",
       "            background-color:  #3c4ec2;\n",
       "            color:  #f1f1f1;\n",
       "        }    #T_3d362e08_1d66_11ea_84e7_4b7a416f77d7row7_col3 {\n",
       "            background-color:  #8fb1fe;\n",
       "            color:  #000000;\n",
       "        }    #T_3d362e08_1d66_11ea_84e7_4b7a416f77d7row7_col4 {\n",
       "            background-color:  #5a78e4;\n",
       "            color:  #000000;\n",
       "        }    #T_3d362e08_1d66_11ea_84e7_4b7a416f77d7row7_col5 {\n",
       "            background-color:  #3b4cc0;\n",
       "            color:  #f1f1f1;\n",
       "        }    #T_3d362e08_1d66_11ea_84e7_4b7a416f77d7row7_col6 {\n",
       "            background-color:  #f7ba9f;\n",
       "            color:  #000000;\n",
       "        }    #T_3d362e08_1d66_11ea_84e7_4b7a416f77d7row7_col7 {\n",
       "            background-color:  #b40426;\n",
       "            color:  #f1f1f1;\n",
       "        }    #T_3d362e08_1d66_11ea_84e7_4b7a416f77d7row7_col8 {\n",
       "            background-color:  #5875e1;\n",
       "            color:  #000000;\n",
       "        }    #T_3d362e08_1d66_11ea_84e7_4b7a416f77d7row7_col9 {\n",
       "            background-color:  #799cf8;\n",
       "            color:  #000000;\n",
       "        }    #T_3d362e08_1d66_11ea_84e7_4b7a416f77d7row8_col0 {\n",
       "            background-color:  #adc9fd;\n",
       "            color:  #000000;\n",
       "        }    #T_3d362e08_1d66_11ea_84e7_4b7a416f77d7row8_col1 {\n",
       "            background-color:  #90b2fe;\n",
       "            color:  #000000;\n",
       "        }    #T_3d362e08_1d66_11ea_84e7_4b7a416f77d7row8_col2 {\n",
       "            background-color:  #445acc;\n",
       "            color:  #f1f1f1;\n",
       "        }    #T_3d362e08_1d66_11ea_84e7_4b7a416f77d7row8_col3 {\n",
       "            background-color:  #4358cb;\n",
       "            color:  #f1f1f1;\n",
       "        }    #T_3d362e08_1d66_11ea_84e7_4b7a416f77d7row8_col4 {\n",
       "            background-color:  #7597f6;\n",
       "            color:  #000000;\n",
       "        }    #T_3d362e08_1d66_11ea_84e7_4b7a416f77d7row8_col5 {\n",
       "            background-color:  #82a6fb;\n",
       "            color:  #000000;\n",
       "        }    #T_3d362e08_1d66_11ea_84e7_4b7a416f77d7row8_col6 {\n",
       "            background-color:  #7699f6;\n",
       "            color:  #000000;\n",
       "        }    #T_3d362e08_1d66_11ea_84e7_4b7a416f77d7row8_col7 {\n",
       "            background-color:  #5977e3;\n",
       "            color:  #000000;\n",
       "        }    #T_3d362e08_1d66_11ea_84e7_4b7a416f77d7row8_col8 {\n",
       "            background-color:  #b40426;\n",
       "            color:  #f1f1f1;\n",
       "        }    #T_3d362e08_1d66_11ea_84e7_4b7a416f77d7row8_col9 {\n",
       "            background-color:  #86a9fc;\n",
       "            color:  #000000;\n",
       "        }    #T_3d362e08_1d66_11ea_84e7_4b7a416f77d7row9_col0 {\n",
       "            background-color:  #a1c0ff;\n",
       "            color:  #000000;\n",
       "        }    #T_3d362e08_1d66_11ea_84e7_4b7a416f77d7row9_col1 {\n",
       "            background-color:  #9fbfff;\n",
       "            color:  #000000;\n",
       "        }    #T_3d362e08_1d66_11ea_84e7_4b7a416f77d7row9_col2 {\n",
       "            background-color:  #3c4ec2;\n",
       "            color:  #f1f1f1;\n",
       "        }    #T_3d362e08_1d66_11ea_84e7_4b7a416f77d7row9_col3 {\n",
       "            background-color:  #7b9ff9;\n",
       "            color:  #000000;\n",
       "        }    #T_3d362e08_1d66_11ea_84e7_4b7a416f77d7row9_col4 {\n",
       "            background-color:  #7b9ff9;\n",
       "            color:  #000000;\n",
       "        }    #T_3d362e08_1d66_11ea_84e7_4b7a416f77d7row9_col5 {\n",
       "            background-color:  #88abfd;\n",
       "            color:  #000000;\n",
       "        }    #T_3d362e08_1d66_11ea_84e7_4b7a416f77d7row9_col6 {\n",
       "            background-color:  #b7cff9;\n",
       "            color:  #000000;\n",
       "        }    #T_3d362e08_1d66_11ea_84e7_4b7a416f77d7row9_col7 {\n",
       "            background-color:  #96b7ff;\n",
       "            color:  #000000;\n",
       "        }    #T_3d362e08_1d66_11ea_84e7_4b7a416f77d7row9_col8 {\n",
       "            background-color:  #a1c0ff;\n",
       "            color:  #000000;\n",
       "        }    #T_3d362e08_1d66_11ea_84e7_4b7a416f77d7row9_col9 {\n",
       "            background-color:  #b40426;\n",
       "            color:  #f1f1f1;\n",
       "        }</style><table id=\"T_3d362e08_1d66_11ea_84e7_4b7a416f77d7\" ><thead>    <tr>        <th class=\"blank level0\" ></th>        <th class=\"col_heading level0 col0\" >id</th>        <th class=\"col_heading level0 col1\" >host_id</th>        <th class=\"col_heading level0 col2\" >latitude</th>        <th class=\"col_heading level0 col3\" >longitude</th>        <th class=\"col_heading level0 col4\" >price</th>        <th class=\"col_heading level0 col5\" >minimum_nights</th>        <th class=\"col_heading level0 col6\" >number_of_reviews</th>        <th class=\"col_heading level0 col7\" >reviews_per_month</th>        <th class=\"col_heading level0 col8\" >calculated_host_listings_count</th>        <th class=\"col_heading level0 col9\" >availability_365</th>    </tr></thead><tbody>\n",
       "                <tr>\n",
       "                        <th id=\"T_3d362e08_1d66_11ea_84e7_4b7a416f77d7level0_row0\" class=\"row_heading level0 row0\" >id</th>\n",
       "                        <td id=\"T_3d362e08_1d66_11ea_84e7_4b7a416f77d7row0_col0\" class=\"data row0 col0\" >1</td>\n",
       "                        <td id=\"T_3d362e08_1d66_11ea_84e7_4b7a416f77d7row0_col1\" class=\"data row0 col1\" >0.58829</td>\n",
       "                        <td id=\"T_3d362e08_1d66_11ea_84e7_4b7a416f77d7row0_col2\" class=\"data row0 col2\" >-0.00312529</td>\n",
       "                        <td id=\"T_3d362e08_1d66_11ea_84e7_4b7a416f77d7row0_col3\" class=\"data row0 col3\" >0.0909085</td>\n",
       "                        <td id=\"T_3d362e08_1d66_11ea_84e7_4b7a416f77d7row0_col4\" class=\"data row0 col4\" >0.0106187</td>\n",
       "                        <td id=\"T_3d362e08_1d66_11ea_84e7_4b7a416f77d7row0_col5\" class=\"data row0 col5\" >-0.0132245</td>\n",
       "                        <td id=\"T_3d362e08_1d66_11ea_84e7_4b7a416f77d7row0_col6\" class=\"data row0 col6\" >-0.31976</td>\n",
       "                        <td id=\"T_3d362e08_1d66_11ea_84e7_4b7a416f77d7row0_col7\" class=\"data row0 col7\" >0.291828</td>\n",
       "                        <td id=\"T_3d362e08_1d66_11ea_84e7_4b7a416f77d7row0_col8\" class=\"data row0 col8\" >0.133272</td>\n",
       "                        <td id=\"T_3d362e08_1d66_11ea_84e7_4b7a416f77d7row0_col9\" class=\"data row0 col9\" >0.0854676</td>\n",
       "            </tr>\n",
       "            <tr>\n",
       "                        <th id=\"T_3d362e08_1d66_11ea_84e7_4b7a416f77d7level0_row1\" class=\"row_heading level0 row1\" >host_id</th>\n",
       "                        <td id=\"T_3d362e08_1d66_11ea_84e7_4b7a416f77d7row1_col0\" class=\"data row1 col0\" >0.58829</td>\n",
       "                        <td id=\"T_3d362e08_1d66_11ea_84e7_4b7a416f77d7row1_col1\" class=\"data row1 col1\" >1</td>\n",
       "                        <td id=\"T_3d362e08_1d66_11ea_84e7_4b7a416f77d7row1_col2\" class=\"data row1 col2\" >0.0202242</td>\n",
       "                        <td id=\"T_3d362e08_1d66_11ea_84e7_4b7a416f77d7row1_col3\" class=\"data row1 col3\" >0.127055</td>\n",
       "                        <td id=\"T_3d362e08_1d66_11ea_84e7_4b7a416f77d7row1_col4\" class=\"data row1 col4\" >0.0153091</td>\n",
       "                        <td id=\"T_3d362e08_1d66_11ea_84e7_4b7a416f77d7row1_col5\" class=\"data row1 col5\" >-0.0173643</td>\n",
       "                        <td id=\"T_3d362e08_1d66_11ea_84e7_4b7a416f77d7row1_col6\" class=\"data row1 col6\" >-0.140106</td>\n",
       "                        <td id=\"T_3d362e08_1d66_11ea_84e7_4b7a416f77d7row1_col7\" class=\"data row1 col7\" >0.296417</td>\n",
       "                        <td id=\"T_3d362e08_1d66_11ea_84e7_4b7a416f77d7row1_col8\" class=\"data row1 col8\" >0.15495</td>\n",
       "                        <td id=\"T_3d362e08_1d66_11ea_84e7_4b7a416f77d7row1_col9\" class=\"data row1 col9\" >0.203492</td>\n",
       "            </tr>\n",
       "            <tr>\n",
       "                        <th id=\"T_3d362e08_1d66_11ea_84e7_4b7a416f77d7level0_row2\" class=\"row_heading level0 row2\" >latitude</th>\n",
       "                        <td id=\"T_3d362e08_1d66_11ea_84e7_4b7a416f77d7row2_col0\" class=\"data row2 col0\" >-0.00312529</td>\n",
       "                        <td id=\"T_3d362e08_1d66_11ea_84e7_4b7a416f77d7row2_col1\" class=\"data row2 col1\" >0.0202242</td>\n",
       "                        <td id=\"T_3d362e08_1d66_11ea_84e7_4b7a416f77d7row2_col2\" class=\"data row2 col2\" >1</td>\n",
       "                        <td id=\"T_3d362e08_1d66_11ea_84e7_4b7a416f77d7row2_col3\" class=\"data row2 col3\" >0.0847884</td>\n",
       "                        <td id=\"T_3d362e08_1d66_11ea_84e7_4b7a416f77d7row2_col4\" class=\"data row2 col4\" >0.0339387</td>\n",
       "                        <td id=\"T_3d362e08_1d66_11ea_84e7_4b7a416f77d7row2_col5\" class=\"data row2 col5\" >0.0248693</td>\n",
       "                        <td id=\"T_3d362e08_1d66_11ea_84e7_4b7a416f77d7row2_col6\" class=\"data row2 col6\" >-0.0153888</td>\n",
       "                        <td id=\"T_3d362e08_1d66_11ea_84e7_4b7a416f77d7row2_col7\" class=\"data row2 col7\" >-0.0101416</td>\n",
       "                        <td id=\"T_3d362e08_1d66_11ea_84e7_4b7a416f77d7row2_col8\" class=\"data row2 col8\" >0.0195174</td>\n",
       "                        <td id=\"T_3d362e08_1d66_11ea_84e7_4b7a416f77d7row2_col9\" class=\"data row2 col9\" >-0.0109835</td>\n",
       "            </tr>\n",
       "            <tr>\n",
       "                        <th id=\"T_3d362e08_1d66_11ea_84e7_4b7a416f77d7level0_row3\" class=\"row_heading level0 row3\" >longitude</th>\n",
       "                        <td id=\"T_3d362e08_1d66_11ea_84e7_4b7a416f77d7row3_col0\" class=\"data row3 col0\" >0.0909085</td>\n",
       "                        <td id=\"T_3d362e08_1d66_11ea_84e7_4b7a416f77d7row3_col1\" class=\"data row3 col1\" >0.127055</td>\n",
       "                        <td id=\"T_3d362e08_1d66_11ea_84e7_4b7a416f77d7row3_col2\" class=\"data row3 col2\" >0.0847884</td>\n",
       "                        <td id=\"T_3d362e08_1d66_11ea_84e7_4b7a416f77d7row3_col3\" class=\"data row3 col3\" >1</td>\n",
       "                        <td id=\"T_3d362e08_1d66_11ea_84e7_4b7a416f77d7row3_col4\" class=\"data row3 col4\" >-0.150019</td>\n",
       "                        <td id=\"T_3d362e08_1d66_11ea_84e7_4b7a416f77d7row3_col5\" class=\"data row3 col5\" >-0.0627471</td>\n",
       "                        <td id=\"T_3d362e08_1d66_11ea_84e7_4b7a416f77d7row3_col6\" class=\"data row3 col6\" >0.0590943</td>\n",
       "                        <td id=\"T_3d362e08_1d66_11ea_84e7_4b7a416f77d7row3_col7\" class=\"data row3 col7\" >0.145948</td>\n",
       "                        <td id=\"T_3d362e08_1d66_11ea_84e7_4b7a416f77d7row3_col8\" class=\"data row3 col8\" >-0.114713</td>\n",
       "                        <td id=\"T_3d362e08_1d66_11ea_84e7_4b7a416f77d7row3_col9\" class=\"data row3 col9\" >0.0827307</td>\n",
       "            </tr>\n",
       "            <tr>\n",
       "                        <th id=\"T_3d362e08_1d66_11ea_84e7_4b7a416f77d7level0_row4\" class=\"row_heading level0 row4\" >price</th>\n",
       "                        <td id=\"T_3d362e08_1d66_11ea_84e7_4b7a416f77d7row4_col0\" class=\"data row4 col0\" >0.0106187</td>\n",
       "                        <td id=\"T_3d362e08_1d66_11ea_84e7_4b7a416f77d7row4_col1\" class=\"data row4 col1\" >0.0153091</td>\n",
       "                        <td id=\"T_3d362e08_1d66_11ea_84e7_4b7a416f77d7row4_col2\" class=\"data row4 col2\" >0.0339387</td>\n",
       "                        <td id=\"T_3d362e08_1d66_11ea_84e7_4b7a416f77d7row4_col3\" class=\"data row4 col3\" >-0.150019</td>\n",
       "                        <td id=\"T_3d362e08_1d66_11ea_84e7_4b7a416f77d7row4_col4\" class=\"data row4 col4\" >1</td>\n",
       "                        <td id=\"T_3d362e08_1d66_11ea_84e7_4b7a416f77d7row4_col5\" class=\"data row4 col5\" >0.0427993</td>\n",
       "                        <td id=\"T_3d362e08_1d66_11ea_84e7_4b7a416f77d7row4_col6\" class=\"data row4 col6\" >-0.0479542</td>\n",
       "                        <td id=\"T_3d362e08_1d66_11ea_84e7_4b7a416f77d7row4_col7\" class=\"data row4 col7\" >-0.0306083</td>\n",
       "                        <td id=\"T_3d362e08_1d66_11ea_84e7_4b7a416f77d7row4_col8\" class=\"data row4 col8\" >0.0574717</td>\n",
       "                        <td id=\"T_3d362e08_1d66_11ea_84e7_4b7a416f77d7row4_col9\" class=\"data row4 col9\" >0.0818288</td>\n",
       "            </tr>\n",
       "            <tr>\n",
       "                        <th id=\"T_3d362e08_1d66_11ea_84e7_4b7a416f77d7level0_row5\" class=\"row_heading level0 row5\" >minimum_nights</th>\n",
       "                        <td id=\"T_3d362e08_1d66_11ea_84e7_4b7a416f77d7row5_col0\" class=\"data row5 col0\" >-0.0132245</td>\n",
       "                        <td id=\"T_3d362e08_1d66_11ea_84e7_4b7a416f77d7row5_col1\" class=\"data row5 col1\" >-0.0173643</td>\n",
       "                        <td id=\"T_3d362e08_1d66_11ea_84e7_4b7a416f77d7row5_col2\" class=\"data row5 col2\" >0.0248693</td>\n",
       "                        <td id=\"T_3d362e08_1d66_11ea_84e7_4b7a416f77d7row5_col3\" class=\"data row5 col3\" >-0.0627471</td>\n",
       "                        <td id=\"T_3d362e08_1d66_11ea_84e7_4b7a416f77d7row5_col4\" class=\"data row5 col4\" >0.0427993</td>\n",
       "                        <td id=\"T_3d362e08_1d66_11ea_84e7_4b7a416f77d7row5_col5\" class=\"data row5 col5\" >1</td>\n",
       "                        <td id=\"T_3d362e08_1d66_11ea_84e7_4b7a416f77d7row5_col6\" class=\"data row5 col6\" >-0.0801161</td>\n",
       "                        <td id=\"T_3d362e08_1d66_11ea_84e7_4b7a416f77d7row5_col7\" class=\"data row5 col7\" >-0.121702</td>\n",
       "                        <td id=\"T_3d362e08_1d66_11ea_84e7_4b7a416f77d7row5_col8\" class=\"data row5 col8\" >0.12796</td>\n",
       "                        <td id=\"T_3d362e08_1d66_11ea_84e7_4b7a416f77d7row5_col9\" class=\"data row5 col9\" >0.144303</td>\n",
       "            </tr>\n",
       "            <tr>\n",
       "                        <th id=\"T_3d362e08_1d66_11ea_84e7_4b7a416f77d7level0_row6\" class=\"row_heading level0 row6\" >number_of_reviews</th>\n",
       "                        <td id=\"T_3d362e08_1d66_11ea_84e7_4b7a416f77d7row6_col0\" class=\"data row6 col0\" >-0.31976</td>\n",
       "                        <td id=\"T_3d362e08_1d66_11ea_84e7_4b7a416f77d7row6_col1\" class=\"data row6 col1\" >-0.140106</td>\n",
       "                        <td id=\"T_3d362e08_1d66_11ea_84e7_4b7a416f77d7row6_col2\" class=\"data row6 col2\" >-0.0153888</td>\n",
       "                        <td id=\"T_3d362e08_1d66_11ea_84e7_4b7a416f77d7row6_col3\" class=\"data row6 col3\" >0.0590943</td>\n",
       "                        <td id=\"T_3d362e08_1d66_11ea_84e7_4b7a416f77d7row6_col4\" class=\"data row6 col4\" >-0.0479542</td>\n",
       "                        <td id=\"T_3d362e08_1d66_11ea_84e7_4b7a416f77d7row6_col5\" class=\"data row6 col5\" >-0.0801161</td>\n",
       "                        <td id=\"T_3d362e08_1d66_11ea_84e7_4b7a416f77d7row6_col6\" class=\"data row6 col6\" >1</td>\n",
       "                        <td id=\"T_3d362e08_1d66_11ea_84e7_4b7a416f77d7row6_col7\" class=\"data row6 col7\" >0.549868</td>\n",
       "                        <td id=\"T_3d362e08_1d66_11ea_84e7_4b7a416f77d7row6_col8\" class=\"data row6 col8\" >-0.0723761</td>\n",
       "                        <td id=\"T_3d362e08_1d66_11ea_84e7_4b7a416f77d7row6_col9\" class=\"data row6 col9\" >0.172028</td>\n",
       "            </tr>\n",
       "            <tr>\n",
       "                        <th id=\"T_3d362e08_1d66_11ea_84e7_4b7a416f77d7level0_row7\" class=\"row_heading level0 row7\" >reviews_per_month</th>\n",
       "                        <td id=\"T_3d362e08_1d66_11ea_84e7_4b7a416f77d7row7_col0\" class=\"data row7 col0\" >0.291828</td>\n",
       "                        <td id=\"T_3d362e08_1d66_11ea_84e7_4b7a416f77d7row7_col1\" class=\"data row7 col1\" >0.296417</td>\n",
       "                        <td id=\"T_3d362e08_1d66_11ea_84e7_4b7a416f77d7row7_col2\" class=\"data row7 col2\" >-0.0101416</td>\n",
       "                        <td id=\"T_3d362e08_1d66_11ea_84e7_4b7a416f77d7row7_col3\" class=\"data row7 col3\" >0.145948</td>\n",
       "                        <td id=\"T_3d362e08_1d66_11ea_84e7_4b7a416f77d7row7_col4\" class=\"data row7 col4\" >-0.0306083</td>\n",
       "                        <td id=\"T_3d362e08_1d66_11ea_84e7_4b7a416f77d7row7_col5\" class=\"data row7 col5\" >-0.121702</td>\n",
       "                        <td id=\"T_3d362e08_1d66_11ea_84e7_4b7a416f77d7row7_col6\" class=\"data row7 col6\" >0.549868</td>\n",
       "                        <td id=\"T_3d362e08_1d66_11ea_84e7_4b7a416f77d7row7_col7\" class=\"data row7 col7\" >1</td>\n",
       "                        <td id=\"T_3d362e08_1d66_11ea_84e7_4b7a416f77d7row7_col8\" class=\"data row7 col8\" >-0.00942116</td>\n",
       "                        <td id=\"T_3d362e08_1d66_11ea_84e7_4b7a416f77d7row7_col9\" class=\"data row7 col9\" >0.185791</td>\n",
       "            </tr>\n",
       "            <tr>\n",
       "                        <th id=\"T_3d362e08_1d66_11ea_84e7_4b7a416f77d7level0_row8\" class=\"row_heading level0 row8\" >calculated_host_listings_count</th>\n",
       "                        <td id=\"T_3d362e08_1d66_11ea_84e7_4b7a416f77d7row8_col0\" class=\"data row8 col0\" >0.133272</td>\n",
       "                        <td id=\"T_3d362e08_1d66_11ea_84e7_4b7a416f77d7row8_col1\" class=\"data row8 col1\" >0.15495</td>\n",
       "                        <td id=\"T_3d362e08_1d66_11ea_84e7_4b7a416f77d7row8_col2\" class=\"data row8 col2\" >0.0195174</td>\n",
       "                        <td id=\"T_3d362e08_1d66_11ea_84e7_4b7a416f77d7row8_col3\" class=\"data row8 col3\" >-0.114713</td>\n",
       "                        <td id=\"T_3d362e08_1d66_11ea_84e7_4b7a416f77d7row8_col4\" class=\"data row8 col4\" >0.0574717</td>\n",
       "                        <td id=\"T_3d362e08_1d66_11ea_84e7_4b7a416f77d7row8_col5\" class=\"data row8 col5\" >0.12796</td>\n",
       "                        <td id=\"T_3d362e08_1d66_11ea_84e7_4b7a416f77d7row8_col6\" class=\"data row8 col6\" >-0.0723761</td>\n",
       "                        <td id=\"T_3d362e08_1d66_11ea_84e7_4b7a416f77d7row8_col7\" class=\"data row8 col7\" >-0.00942116</td>\n",
       "                        <td id=\"T_3d362e08_1d66_11ea_84e7_4b7a416f77d7row8_col8\" class=\"data row8 col8\" >1</td>\n",
       "                        <td id=\"T_3d362e08_1d66_11ea_84e7_4b7a416f77d7row8_col9\" class=\"data row8 col9\" >0.225701</td>\n",
       "            </tr>\n",
       "            <tr>\n",
       "                        <th id=\"T_3d362e08_1d66_11ea_84e7_4b7a416f77d7level0_row9\" class=\"row_heading level0 row9\" >availability_365</th>\n",
       "                        <td id=\"T_3d362e08_1d66_11ea_84e7_4b7a416f77d7row9_col0\" class=\"data row9 col0\" >0.0854676</td>\n",
       "                        <td id=\"T_3d362e08_1d66_11ea_84e7_4b7a416f77d7row9_col1\" class=\"data row9 col1\" >0.203492</td>\n",
       "                        <td id=\"T_3d362e08_1d66_11ea_84e7_4b7a416f77d7row9_col2\" class=\"data row9 col2\" >-0.0109835</td>\n",
       "                        <td id=\"T_3d362e08_1d66_11ea_84e7_4b7a416f77d7row9_col3\" class=\"data row9 col3\" >0.0827307</td>\n",
       "                        <td id=\"T_3d362e08_1d66_11ea_84e7_4b7a416f77d7row9_col4\" class=\"data row9 col4\" >0.0818288</td>\n",
       "                        <td id=\"T_3d362e08_1d66_11ea_84e7_4b7a416f77d7row9_col5\" class=\"data row9 col5\" >0.144303</td>\n",
       "                        <td id=\"T_3d362e08_1d66_11ea_84e7_4b7a416f77d7row9_col6\" class=\"data row9 col6\" >0.172028</td>\n",
       "                        <td id=\"T_3d362e08_1d66_11ea_84e7_4b7a416f77d7row9_col7\" class=\"data row9 col7\" >0.185791</td>\n",
       "                        <td id=\"T_3d362e08_1d66_11ea_84e7_4b7a416f77d7row9_col8\" class=\"data row9 col8\" >0.225701</td>\n",
       "                        <td id=\"T_3d362e08_1d66_11ea_84e7_4b7a416f77d7row9_col9\" class=\"data row9 col9\" >1</td>\n",
       "            </tr>\n",
       "    </tbody></table>"
      ],
      "text/plain": [
       "<pandas.io.formats.style.Styler at 0x7f0aa56cd750>"
      ]
     },
     "execution_count": 59,
     "metadata": {},
     "output_type": "execute_result"
    }
   ],
   "source": [
    "main_df.corr().style.background_gradient(cmap='coolwarm')\n",
    "# plt.show()"
   ]
  },
  {
   "cell_type": "markdown",
   "metadata": {},
   "source": [
    "## Predicting Price\n",
    "\n",
    "The problem is of regressing price.\n",
    "\n",
    "Let's try a multiple linear regression on the features. We drop the features (name, id, host name, and last review). We transform the categorical variables (neighbourhood_group, neighbourhood, room_type) into labels using Scikit-Learn's label transformer. \n",
    "\n",
    "We use Ordinary Least Squares (OLS) Regression. We hold out 20% of the data for testing. "
   ]
  },
  {
   "cell_type": "code",
   "execution_count": 60,
   "metadata": {},
   "outputs": [
    {
     "data": {
      "text/html": [
       "<div>\n",
       "<style scoped>\n",
       "    .dataframe tbody tr th:only-of-type {\n",
       "        vertical-align: middle;\n",
       "    }\n",
       "\n",
       "    .dataframe tbody tr th {\n",
       "        vertical-align: top;\n",
       "    }\n",
       "\n",
       "    .dataframe thead th {\n",
       "        text-align: right;\n",
       "    }\n",
       "</style>\n",
       "<table border=\"1\" class=\"dataframe\">\n",
       "  <thead>\n",
       "    <tr style=\"text-align: right;\">\n",
       "      <th></th>\n",
       "      <th>host_id</th>\n",
       "      <th>neighbourhood_group</th>\n",
       "      <th>neighbourhood</th>\n",
       "      <th>latitude</th>\n",
       "      <th>longitude</th>\n",
       "      <th>room_type</th>\n",
       "      <th>price</th>\n",
       "      <th>minimum_nights</th>\n",
       "      <th>number_of_reviews</th>\n",
       "      <th>reviews_per_month</th>\n",
       "      <th>calculated_host_listings_count</th>\n",
       "      <th>availability_365</th>\n",
       "    </tr>\n",
       "  </thead>\n",
       "  <tbody>\n",
       "    <tr>\n",
       "      <th>25796</th>\n",
       "      <td>86327101</td>\n",
       "      <td>1</td>\n",
       "      <td>13</td>\n",
       "      <td>40.68258</td>\n",
       "      <td>-73.91284</td>\n",
       "      <td>1</td>\n",
       "      <td>0</td>\n",
       "      <td>1</td>\n",
       "      <td>95</td>\n",
       "      <td>4.35</td>\n",
       "      <td>6</td>\n",
       "      <td>222</td>\n",
       "    </tr>\n",
       "    <tr>\n",
       "      <th>25634</th>\n",
       "      <td>15787004</td>\n",
       "      <td>1</td>\n",
       "      <td>28</td>\n",
       "      <td>40.69467</td>\n",
       "      <td>-73.92433</td>\n",
       "      <td>1</td>\n",
       "      <td>0</td>\n",
       "      <td>2</td>\n",
       "      <td>16</td>\n",
       "      <td>0.71</td>\n",
       "      <td>5</td>\n",
       "      <td>0</td>\n",
       "    </tr>\n",
       "    <tr>\n",
       "      <th>25433</th>\n",
       "      <td>131697576</td>\n",
       "      <td>0</td>\n",
       "      <td>62</td>\n",
       "      <td>40.83296</td>\n",
       "      <td>-73.88668</td>\n",
       "      <td>1</td>\n",
       "      <td>0</td>\n",
       "      <td>2</td>\n",
       "      <td>55</td>\n",
       "      <td>2.56</td>\n",
       "      <td>4</td>\n",
       "      <td>127</td>\n",
       "    </tr>\n",
       "    <tr>\n",
       "      <th>25753</th>\n",
       "      <td>1641537</td>\n",
       "      <td>1</td>\n",
       "      <td>91</td>\n",
       "      <td>40.72462</td>\n",
       "      <td>-73.94072</td>\n",
       "      <td>1</td>\n",
       "      <td>0</td>\n",
       "      <td>2</td>\n",
       "      <td>12</td>\n",
       "      <td>0.53</td>\n",
       "      <td>2</td>\n",
       "      <td>0</td>\n",
       "    </tr>\n",
       "    <tr>\n",
       "      <th>23161</th>\n",
       "      <td>8993084</td>\n",
       "      <td>1</td>\n",
       "      <td>13</td>\n",
       "      <td>40.69023</td>\n",
       "      <td>-73.95428</td>\n",
       "      <td>1</td>\n",
       "      <td>0</td>\n",
       "      <td>4</td>\n",
       "      <td>1</td>\n",
       "      <td>0.05</td>\n",
       "      <td>4</td>\n",
       "      <td>28</td>\n",
       "    </tr>\n",
       "  </tbody>\n",
       "</table>\n",
       "</div>"
      ],
      "text/plain": [
       "         host_id  neighbourhood_group  neighbourhood  latitude  longitude  \\\n",
       "25796   86327101                    1             13  40.68258  -73.91284   \n",
       "25634   15787004                    1             28  40.69467  -73.92433   \n",
       "25433  131697576                    0             62  40.83296  -73.88668   \n",
       "25753    1641537                    1             91  40.72462  -73.94072   \n",
       "23161    8993084                    1             13  40.69023  -73.95428   \n",
       "\n",
       "       room_type  price  minimum_nights  number_of_reviews  reviews_per_month  \\\n",
       "25796          1      0               1                 95               4.35   \n",
       "25634          1      0               2                 16               0.71   \n",
       "25433          1      0               2                 55               2.56   \n",
       "25753          1      0               2                 12               0.53   \n",
       "23161          1      0               4                  1               0.05   \n",
       "\n",
       "       calculated_host_listings_count  availability_365  \n",
       "25796                               6               222  \n",
       "25634                               5                 0  \n",
       "25433                               4               127  \n",
       "25753                               2                 0  \n",
       "23161                               4                28  "
      ]
     },
     "execution_count": 60,
     "metadata": {},
     "output_type": "execute_result"
    }
   ],
   "source": [
    "'''Machine Learning'''\n",
    "import sklearn\n",
    "from sklearn import preprocessing\n",
    "from sklearn import metrics\n",
    "from sklearn.metrics import r2_score, mean_absolute_error\n",
    "from sklearn.preprocessing import LabelEncoder,OneHotEncoder\n",
    "from sklearn.model_selection import train_test_split\n",
    "from sklearn.linear_model import LinearRegression\n",
    "# from sklearn.ensemble import RandomForestRegressor,  GradientBoostingRegressor\n",
    "\n",
    "\n",
    "# Preparing the main_df \n",
    "main_df.drop(['name','id','host_name','last_review'],axis=1,inplace=True)\n",
    "main_df['reviews_per_month']=main_df['reviews_per_month'].replace(np.nan, 0)\n",
    "\n",
    "'''Encode labels with value between 0 and n_classes-1.'''\n",
    "le = preprocessing.LabelEncoder() # Fit label encoder\n",
    "le.fit(main_df['neighbourhood_group'])\n",
    "main_df['neighbourhood_group']=le.transform(main_df['neighbourhood_group']) # Transform labels to normalized encoding.\n",
    "\n",
    "le = preprocessing.LabelEncoder()\n",
    "le.fit(main_df['neighbourhood'])\n",
    "main_df['neighbourhood']=le.transform(main_df['neighbourhood'])\n",
    "\n",
    "le = preprocessing.LabelEncoder()\n",
    "le.fit(main_df['room_type'])\n",
    "main_df['room_type']=le.transform(main_df['room_type'])\n",
    "\n",
    "main_df.sort_values(by='price',ascending=True,inplace=True)\n",
    "\n",
    "main_df.head()"
   ]
  },
  {
   "cell_type": "code",
   "execution_count": 61,
   "metadata": {},
   "outputs": [
    {
     "data": {
      "text/plain": [
       "LinearRegression(copy_X=True, fit_intercept=True, n_jobs=None, normalize=False)"
      ]
     },
     "execution_count": 61,
     "metadata": {},
     "output_type": "execute_result"
    }
   ],
   "source": [
    "'''Train LRM'''\n",
    "lm = LinearRegression()\n",
    "\n",
    "X = main_df[['neighbourhood_group','neighbourhood','latitude','longitude','room_type','minimum_nights','number_of_reviews','reviews_per_month','calculated_host_listings_count','availability_365']]\n",
    "y = main_df['price']\n",
    "\n",
    "X_train, X_test, y_train, y_test = train_test_split(X, y, test_size=0.2)\n",
    "\n",
    "lm.fit(X_train,y_train)"
   ]
  },
  {
   "cell_type": "markdown",
   "metadata": {},
   "source": [
    "For evaluation, we calculate Mean Absolute Error (MAE), Root Mean Squared Error (RMSE), and the coefficient of determination (R^2). \n",
    "\n",
    "MAE is the average of the absolute errors. \n",
    "MSE is the average of the squared errors. This penalizes larger errors by more. Taking the square root to get RMSE returns to our original units.\n",
    "\n",
    "R^2 is the proportion of the variance in the dependent variable that is predictable from the independent variable.\n",
    "\n",
    "From Scikit's documentation for R^2:\n",
    "\n",
    "The coefficient R^2 is defined as (1 - u/v), where u is the residual sum of squares ((y_true - y_pred) ** 2).sum() and v is the total sum of squares ((y_true - y_true.mean()) ** 2).sum(). The best possible score is 1.0 and it can be negative (because the model can be arbitrarily worse).\n",
    "\n",
    "[Here's a more thorough explanation of evaluation metrics for regression.](https://medium.com/usf-msds/choosing-the-right-metric-for-machine-learning-models-part-1-a99d7d7414e4)\n",
    "\n",
    "We use MAE, because we believe price outliers exist and don't want them to impact the error.\n",
    "According to MAE, on average, our model is off by 72$. This is better than 1 standard deviation of guessing the mean (240), but realistically not that great."
   ]
  },
  {
   "cell_type": "code",
   "execution_count": 62,
   "metadata": {},
   "outputs": [
    {
     "name": "stdout",
     "output_type": "stream",
     "text": [
      "\n",
      "        Mean Absolute Error: 74.59991200070456\n",
      "        Root Mean Squared Error: 226.57236982815087\n",
      "        R2 Score: 0.09665551242432535\n",
      "     \n"
     ]
    }
   ],
   "source": [
    "'''Get Predictions & Print Metrics'''\n",
    "predicts = lm.predict(X_test)\n",
    "\n",
    "print(\"\"\"\n",
    "        Mean Absolute Error: {}\n",
    "        Root Mean Squared Error: {}\n",
    "        R2 Score: {}\n",
    "     \"\"\".format(\n",
    "        mean_absolute_error(y_test,predicts),\n",
    "        np.sqrt(metrics.mean_squared_error(y_test, predicts)),\n",
    "        r2_score(y_test,predicts),\n",
    "        ))"
   ]
  },
  {
   "cell_type": "markdown",
   "metadata": {},
   "source": [
    "We plot the regressor price predictions against the actual ones. This is to visually check if our regression estimates look good, as well as test if the assumptions of a linear relationship are satisfied. The assumptions are explained in detail [here.](https://www.statisticssolutions.com/assumptions-of-linear-regression/) \n",
    "\n",
    "Some core assumptions:\n",
    "* error terms (residuals) are normally distributed around the regression line, and homoscedastic (spread doesn't grow or shrink).\n",
    "* no multicollinearity - this is when a feature is itself linearly dependent on other features."
   ]
  },
  {
   "cell_type": "code",
   "execution_count": 63,
   "metadata": {},
   "outputs": [
    {
     "data": {
      "image/png": "[encoded data removed]",
      "text/plain": [
       "<Figure size 1152x576 with 1 Axes>"
      ]
     },
     "metadata": {},
     "output_type": "display_data"
    }
   ],
   "source": [
    "plt.figure(figsize=(16,8))\n",
    "sns.regplot(predicts,y_test)\n",
    "plt.xlabel('Predictions')\n",
    "plt.ylabel('Actual')\n",
    "plt.title(\"Linear Model Predictions\")\n",
    "plt.grid(False)\n",
    "plt.show()"
   ]
  },
  {
   "cell_type": "markdown",
   "metadata": {},
   "source": [
    "We notice some large outliers in the positive direction. These represent listings that were much more expensive than expected. Perhaps this is an indication that they're a ripoff! Or there are more features that account for their price, such as room quality and amenities. \n",
    "\n",
    "This plot shows some problems: we notice our regressor is relatively conservative in predicting price (it doesn't go above 400), when there are listings in the thousands. We also notice it predicts negative prices for some listings, which is nonsensical. Unfortunately, the residuals don't seem to be evenly distributed around the regression line - this may indicate an issue with the model assumptions.\n",
    "\n",
    "\n",
    "### Finding a Better Model\n",
    "It seems as though there is a significant relationship between Airbnb price and and a variety of the features included in the dataset. However, considering the number of features in the present model, it is likely that we could find a more parsimonious model and improve our $R^2$ value. Unfortunately, SKLearn makes it difficult to analyze the significance of each of the predictors in a model. Instead, we can temporarily make use of Python's StatsModels library. This library in particular has some very powerful statistical tools including robust model summary information.\n",
    "\n",
    "### Diagnostic Plots\n",
    "Below are a few methods to generate diagnostic plots which can be used to check the assumptions for linearity.\n",
    "\n",
    "* Plot of residual size against the fitted (predicted) value. We expect an even (homoscedastic), Gaussian distribution around y=0.\n",
    "* Plot of residuals against the order the data was presented. If we see trends, then that indicates a serious problem.\n",
    "* Histogram of residual sizes."
   ]
  },
  {
   "cell_type": "code",
   "execution_count": 64,
   "metadata": {},
   "outputs": [],
   "source": [
    "# Residuals vs. Fitted\n",
    "def r_v_fit(m):\n",
    "    ax = sns.residplot(m.fittedvalues, m.resid)\n",
    "    plt.title(\"Residuals vs. Fitted\")\n",
    "    plt.ylabel(\"Residuals\")\n",
    "    plt.xlabel(\"Fitted Values\")\n",
    "    plt.show()\n",
    "    \n",
    "# Residuals vs. Order\n",
    "def r_v_order(m):\n",
    "    ax = plt.scatter(m.resid.index, m.resid)\n",
    "    plt.title(\"Residuals vs. Order\")\n",
    "    plt.ylabel(\"Residuals\")\n",
    "    plt.xlabel(\"Order\")\n",
    "    plt.show()\n",
    "\n",
    "# Histogram\n",
    "def r_hist(m, binwidth):\n",
    "    resid = m.resid\n",
    "    plt.hist(m.resid, bins=np.arange(min(resid), max(resid) + binwidth, binwidth))\n",
    "    plt.title(\"Histogram of Residuals\")\n",
    "    plt.show()"
   ]
  },
  {
   "cell_type": "code",
   "execution_count": 65,
   "metadata": {},
   "outputs": [],
   "source": [
    "# Get separate dataframe for statsmodels analysis\n",
    "sm_df = pd.read_csv('nyc.csv')\n",
    "\n",
    "# Split data for training and testing\n",
    "sm_df['logprice'] = np.log(1 + sm_df['price'])\n",
    "train_data, test_data = train_test_split(sm_df, test_size=0.2)"
   ]
  },
  {
   "cell_type": "code",
   "execution_count": 66,
   "metadata": {},
   "outputs": [
    {
     "name": "stdout",
     "output_type": "stream",
     "text": [
      "P-Value:\t1.8006884367200522e-17\n",
      "R_Squared:\t0.11798224182996442\n",
      "R_Squared Adj:\t0.1176132798691506\n"
     ]
    },
    {
     "data": {
      "image/png": "[encoded data removed]",
      "text/plain": [
       "<Figure size 432x288 with 1 Axes>"
      ]
     },
     "metadata": {},
     "output_type": "display_data"
    },
    {
     "data": {
      "image/png": "[encoded data removed]",
      "text/plain": [
       "<Figure size 432x288 with 1 Axes>"
      ]
     },
     "metadata": {},
     "output_type": "display_data"
    },
    {
     "data": {
      "image/png": "[encoded data removed]",
      "text/plain": [
       "<Figure size 432x288 with 1 Axes>"
      ]
     },
     "metadata": {},
     "output_type": "display_data"
    }
   ],
   "source": [
    "import statsmodels.formula.api as smf\n",
    "\n",
    "# Create the model\n",
    "model = smf.ols(\n",
    "    'price ~ neighbourhood_group + latitude + longitude \\\n",
    "     + room_type + minimum_nights + number_of_reviews + reviews_per_month \\\n",
    "     + calculated_host_listings_count + availability_365',\n",
    "    data=train_data).fit()\n",
    "\n",
    "print(\"P-Value:\\t{}\".format(model.pvalues[0]))\n",
    "print(\"R_Squared:\\t{}\".format(model.rsquared))\n",
    "print(\"R_Squared Adj:\\t{}\".format(model.rsquared_adj))\n",
    "\n",
    "# Diagnostic Plots for model\n",
    "r_v_fit(model)\n",
    "r_v_order(model)\n",
    "r_hist(model, 100)"
   ]
  },
  {
   "cell_type": "markdown",
   "metadata": {},
   "source": [
    "The above plots show a few issues with the current model. The residuals vs. fitted plot shows mostly positive residuals and a number of outliers. It also appears as though the plot has a cone shape, and therefore does not meet the equal spread condition for linear regression. Residuals vs. Order also shows a number of outliers and, like the vs. fitted plot, takes on mostly positive values. Lastly, the histogram of residuals is very skewed. This is likely due to the outliers as seen above. Also, the R-Squared value of the model (listed above the residual plots) is very low. \n",
    "\n",
    "Because of the skew in distribution of residuals/number of outliers, it may be useful to attempt a log transformation on the response (price). Let's try the new model out to see how it compares:"
   ]
  },
  {
   "cell_type": "code",
   "execution_count": 67,
   "metadata": {},
   "outputs": [
    {
     "name": "stdout",
     "output_type": "stream",
     "text": [
      "P-Value:\t1.0826817734661715e-128\n",
      "R_Squared:\t0.5130876908707718\n",
      "R_Squared Adj:\t0.5128840077604754\n"
     ]
    },
    {
     "data": {
      "image/png": "[encoded data removed]",
      "text/plain": [
       "<Figure size 432x288 with 1 Axes>"
      ]
     },
     "metadata": {},
     "output_type": "display_data"
    },
    {
     "data": {
      "image/png": "[encoded data removed]",
      "text/plain": [
       "<Figure size 432x288 with 1 Axes>"
      ]
     },
     "metadata": {},
     "output_type": "display_data"
    },
    {
     "data": {
      "image/png": "[encoded data removed]",
      "text/plain": [
       "<Figure size 432x288 with 1 Axes>"
      ]
     },
     "metadata": {},
     "output_type": "display_data"
    }
   ],
   "source": [
    "# Fitting a new model with a log-transformed price\n",
    "log_model = smf.ols(\n",
    "    'logprice ~ neighbourhood_group + latitude + longitude \\\n",
    "     + room_type + minimum_nights + number_of_reviews + reviews_per_month \\\n",
    "     + calculated_host_listings_count + availability_365',\n",
    "    data=train_data).fit()\n",
    "\n",
    "print(\"P-Value:\\t{}\".format(log_model.pvalues[0]))\n",
    "print(\"R_Squared:\\t{}\".format(log_model.rsquared))\n",
    "print(\"R_Squared Adj:\\t{}\".format(log_model.rsquared_adj))\n",
    "\n",
    "# Diagnostic Plots for new, transformed model\n",
    "r_v_fit(log_model)\n",
    "r_v_order(log_model)\n",
    "r_hist(log_model, 0.1)"
   ]
  },
  {
   "cell_type": "markdown",
   "metadata": {},
   "source": [
    "Although there are still some outliers, this model immediately appears to be improved! All three diagnostic plots meet the assumptions necessary for using linear regression. There is still a slight cone shape to the residuals vs. fitted plot, but it looks much better. Residuals vs. order has better spread around the x-axis, which indicates independence of the data. Lastly, the histogram of residuals has a much more normal distribution than the original model. The R-Squared value is significantly higher than that of the original model, so this new model is much better for explaining price.\n",
    "\n",
    "With this new nonlinear relationship, our interpretation of the model coefficients also changes. if we have a coefficient m, then an increase of X by 1 corresponds to an increase of log(Y) by m; this is equivalent to saying Y increases by a factor of e^m. \n",
    "\n",
    "### Reducing the Model\n",
    "Now that we have a better model, it may be worth examining to see if any predictors may be removed from the model. The Statsmodels library has great summary statistics, so we can look at the p-value of each of the predictors to see how significant they are:"
   ]
  },
  {
   "cell_type": "code",
   "execution_count": 68,
   "metadata": {
    "scrolled": false
   },
   "outputs": [
    {
     "name": "stdout",
     "output_type": "stream",
     "text": [
      "Intercept                               1.800688e-17\n",
      "neighbourhood_group[T.Brooklyn]         4.251948e-02\n",
      "neighbourhood_group[T.Manhattan]        2.298320e-05\n",
      "neighbourhood_group[T.Queens]           4.204273e-01\n",
      "neighbourhood_group[T.Staten Island]    1.325462e-18\n",
      "room_type[T.Private room]               0.000000e+00\n",
      "room_type[T.Shared room]                1.986989e-77\n",
      "latitude                                2.263745e-07\n",
      "longitude                               1.952355e-37\n",
      "minimum_nights                          3.438375e-03\n",
      "number_of_reviews                       1.388211e-13\n",
      "reviews_per_month                       5.630876e-01\n",
      "calculated_host_listings_count          1.813091e-02\n",
      "availability_365                        8.810706e-88\n",
      "dtype: float64\n"
     ]
    }
   ],
   "source": [
    "print(model.pvalues)"
   ]
  },
  {
   "cell_type": "markdown",
   "metadata": {},
   "source": [
    "With a significance level of $\\alpha=0.05$, we can see from the above output that only two of the predictors, Queens Borough and Reviews Per Month, are not significant predictors of price. Through backwards elimination we can remove these predictors one-by-one to see if our model improves. First we can start by eliminating reviews per month because it has the higher p-value."
   ]
  },
  {
   "cell_type": "code",
   "execution_count": 69,
   "metadata": {},
   "outputs": [
    {
     "name": "stdout",
     "output_type": "stream",
     "text": [
      "P-Value:\t2.957016119131831e-125\n",
      "R_Squared:\t0.5121585158154411\n",
      "R_Squared Adj:\t0.5119701479085548\n"
     ]
    }
   ],
   "source": [
    "log_model_1 = smf.ols(\n",
    "    'logprice ~ neighbourhood_group + latitude + longitude \\\n",
    "     + room_type + minimum_nights + reviews_per_month \\\n",
    "     + calculated_host_listings_count + availability_365',\n",
    "    data=train_data).fit()\n",
    "\n",
    "print(\"P-Value:\\t{}\".format(log_model_1.pvalues[0]))\n",
    "print(\"R_Squared:\\t{}\".format(log_model_1.rsquared))\n",
    "print(\"R_Squared Adj:\\t{}\".format(log_model_1.rsquared_adj))"
   ]
  },
  {
   "cell_type": "markdown",
   "metadata": {},
   "source": [
    "Because both $R^2$ and $R^2_{adj}$ decreased with the removal of Reviews per Month, we should keep the original log-transformed model and not continue to eliminate predictors. Therefore, we can settle on the following model:\n",
    "\n",
    "$\\widehat{price}=b_0 + b_1*n\\_brooklyn + b_2*n\\_manhattan + b_3*n\\_queens + b_4*n\\_staten + b_5*latitude + b_6*longitude + b_7*room\\_private + b_8*room\\_shared + b_9*minimum\\_nights + b_{10}*reviews\\_per\\_month + b_{11}*listings\\_count + b_{12}*availability$\n",
    "\n",
    "We print the coefficients of the model:"
   ]
  },
  {
   "cell_type": "code",
   "execution_count": 70,
   "metadata": {},
   "outputs": [
    {
     "data": {
      "text/plain": [
       "Intercept                              -27084.057118\n",
       "neighbourhood_group[T.Brooklyn]           -17.756057\n",
       "neighbourhood_group[T.Manhattan]           33.544538\n",
       "neighbourhood_group[T.Queens]               6.786568\n",
       "neighbourhood_group[T.Staten Island]     -144.329882\n",
       "room_type[T.Private room]                 -98.485986\n",
       "room_type[T.Shared room]                 -134.381678\n",
       "latitude                                 -162.436102\n",
       "longitude                                -458.002497\n",
       "minimum_nights                             -0.171048\n",
       "number_of_reviews                          -0.192138\n",
       "reviews_per_month                           0.434810\n",
       "calculated_host_listings_count             -0.097930\n",
       "availability_365                            0.170246\n",
       "dtype: float64"
      ]
     },
     "execution_count": 70,
     "metadata": {},
     "output_type": "execute_result"
    }
   ],
   "source": [
    "model.params"
   ]
  },
  {
   "cell_type": "markdown",
   "metadata": {},
   "source": [
    "The most sensitive coefficients are longitude, latitude, neighbourhood_group[T.Staten Island], and room_type[T.Shared room]. Coincidentally, they are all negatively correlated with price, which intuitively makes sense. The features most positively correlated with price are neighbourhood_group[T.Manhattan] and neighbourhood_group[T.Queens]."
   ]
  },
  {
   "cell_type": "markdown",
   "metadata": {},
   "source": [
    "\n",
    "## Summary\n",
    "\n",
    "We perform exploratory data analysis, examining listings across boroughs, room types, and location. We perform ordinary least squares regression on price, and find that there is some predictive power, however the assumptions of linearity aren't followed, indicating a nonlinear relationship. We perform a log-linear regression on price, and find the assumptions are satisfied, in addition to predictive power improving dramatically. We analyze the predictive power of each individual feature.\n",
    "\n",
    "Things to do:\n",
    "\n",
    "* Interpret the model, and what features have the most explanatory power\n",
    "* Try a more complex model (Gradient Boosted Regressor)\n",
    "* Try adding text as a feature (BoW,TF-IDF)\n",
    "* Individually examine regressor outliers, both high and low. Can we find ripoffs or bargains?\n",
    "* Normalize the data.\n",
    "\n",
    "And there you have it! For cheap Airbnbs, look to the northeast, shared rooms, or Staten Island. Happy Airbnb hunting!"
   ]
  }
 ],
 "metadata": {
  "kernelspec": {
   "display_name": "Python 3",
   "language": "python",
   "name": "python3"
  },
  "language_info": {
   "codemirror_mode": {
    "name": "ipython",
    "version": 3
   },
   "file_extension": ".py",
   "mimetype": "text/x-python",
   "name": "python",
   "nbconvert_exporter": "python",
   "pygments_lexer": "ipython3",
   "version": "3.7.3"
  }
 },
 "nbformat": 4,
 "nbformat_minor": 1
}
